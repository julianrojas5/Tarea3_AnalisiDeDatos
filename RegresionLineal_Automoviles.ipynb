{
 "cells": [
  {
   "cell_type": "markdown",
   "id": "c6610e55-6402-43e4-a459-b88b42b60f7b",
   "metadata": {},
   "source": [
    "librerias"
   ]
  },
  {
   "cell_type": "code",
   "execution_count": 10,
   "id": "5390e220-a3ef-4152-ac0e-776a993e1857",
   "metadata": {},
   "outputs": [],
   "source": [
    "import pandas as pd\n",
    "import numpy as np\n",
    "import matplotlib.pyplot as plt\n",
    "from sklearn.linear_model import LinearRegression\n",
    "from sklearn.metrics import mean_squared_error, mean_absolute_error, r2_score"
   ]
  },
  {
   "cell_type": "markdown",
   "id": "a26e09b8-23e9-4045-beb6-d0a3ce0d15c6",
   "metadata": {},
   "source": [
    "Carga de Dataset"
   ]
  },
  {
   "cell_type": "code",
   "execution_count": 19,
   "id": "cd560129-2d3f-465f-92b9-033e55a5fcbf",
   "metadata": {},
   "outputs": [],
   "source": [
    "data1 = pd.read_csv(r'C:\\Users\\User\\OneDrive\\Escritorio\\UNAD\\7 semestre\\Analisis de datos\\Tarea 3\\Anexo 2 - Dataset Vehicle\\car data.csv')"
   ]
  },
  {
   "cell_type": "markdown",
   "id": "69505501-a2c9-467f-a15c-5c5c33fa7b26",
   "metadata": {},
   "source": [
    "Analisis de Dataset"
   ]
  },
  {
   "cell_type": "code",
   "execution_count": 20,
   "id": "90996b44-b2f3-4a31-ad3b-9c9c57426abd",
   "metadata": {
    "scrolled": true
   },
   "outputs": [
    {
     "name": "stdout",
     "output_type": "stream",
     "text": [
      "Dataset 1:\n",
      "  Car_Name  Year  Selling_Price  Present_Price  Kms_Driven Fuel_Type  \\\n",
      "0     ritz  2014           3.35           5.59       27000    Petrol   \n",
      "1      sx4  2013           4.75           9.54       43000    Diesel   \n",
      "2     ciaz  2017           7.25           9.85        6900    Petrol   \n",
      "3  wagon r  2011           2.85           4.15        5200    Petrol   \n",
      "4    swift  2014           4.60           6.87       42450    Diesel   \n",
      "\n",
      "  Seller_Type Transmission  Owner  \n",
      "0      Dealer       Manual      0  \n",
      "1      Dealer       Manual      0  \n",
      "2      Dealer       Manual      0  \n",
      "3      Dealer       Manual      0  \n",
      "4      Dealer       Manual      0  \n"
     ]
    }
   ],
   "source": [
    "print(\"Dataset 1:\")\n",
    "print(data1.head())\n"
   ]
  },
  {
   "cell_type": "code",
   "execution_count": 21,
   "id": "842bb154-1152-4b9f-af24-28d59999406d",
   "metadata": {
    "scrolled": true
   },
   "outputs": [
    {
     "name": "stdout",
     "output_type": "stream",
     "text": [
      "Dataset 1:\n",
      "<class 'pandas.core.frame.DataFrame'>\n",
      "RangeIndex: 301 entries, 0 to 300\n",
      "Data columns (total 9 columns):\n",
      " #   Column         Non-Null Count  Dtype  \n",
      "---  ------         --------------  -----  \n",
      " 0   Car_Name       301 non-null    object \n",
      " 1   Year           301 non-null    int64  \n",
      " 2   Selling_Price  301 non-null    float64\n",
      " 3   Present_Price  301 non-null    float64\n",
      " 4   Kms_Driven     301 non-null    int64  \n",
      " 5   Fuel_Type      301 non-null    object \n",
      " 6   Seller_Type    301 non-null    object \n",
      " 7   Transmission   301 non-null    object \n",
      " 8   Owner          301 non-null    int64  \n",
      "dtypes: float64(2), int64(3), object(4)\n",
      "memory usage: 21.3+ KB\n",
      "None\n"
     ]
    }
   ],
   "source": [
    "print(\"Dataset 1:\")\n",
    "print(data1.info())"
   ]
  },
  {
   "cell_type": "code",
   "execution_count": 22,
   "id": "3a168db9-ece4-43af-ba03-01deefd31a84",
   "metadata": {},
   "outputs": [
    {
     "name": "stdout",
     "output_type": "stream",
     "text": [
      "Dataset 1:\n",
      "              Year  Selling_Price  Present_Price     Kms_Driven       Owner\n",
      "count   301.000000     301.000000     301.000000     301.000000  301.000000\n",
      "mean   2013.627907       4.661296       7.628472   36947.205980    0.043189\n",
      "std       2.891554       5.082812       8.644115   38886.883882    0.247915\n",
      "min    2003.000000       0.100000       0.320000     500.000000    0.000000\n",
      "25%    2012.000000       0.900000       1.200000   15000.000000    0.000000\n",
      "50%    2014.000000       3.600000       6.400000   32000.000000    0.000000\n",
      "75%    2016.000000       6.000000       9.900000   48767.000000    0.000000\n",
      "max    2018.000000      35.000000      92.600000  500000.000000    3.000000\n"
     ]
    }
   ],
   "source": [
    "print(\"Dataset 1:\")\n",
    "print(data1.describe())"
   ]
  },
  {
   "cell_type": "markdown",
   "id": "dfcbce57-1669-4890-81cb-04b4551de5ff",
   "metadata": {},
   "source": [
    "Ver nombre de columnas"
   ]
  },
  {
   "cell_type": "code",
   "execution_count": 27,
   "id": "07cd2a2b-5926-4a4f-aa60-0c61f914f2b1",
   "metadata": {},
   "outputs": [
    {
     "name": "stdout",
     "output_type": "stream",
     "text": [
      "Index(['Car_Name', 'Year', 'Selling_Price', 'Present_Price', 'Kms_Driven',\n",
      "       'Fuel_Type', 'Seller_Type', 'Transmission', 'Owner'],\n",
      "      dtype='object')\n"
     ]
    }
   ],
   "source": [
    "print(train_data.columns)"
   ]
  },
  {
   "cell_type": "markdown",
   "id": "3935eafe-cff9-46f8-95dd-ecd9766914fa",
   "metadata": {},
   "source": [
    "Dividir el conjunto de datos en conjuntos de entrenamiento y prueba (80% train, 20% test)\n",
    "Verificar las formas de los conjuntos de datos resultantes"
   ]
  },
  {
   "cell_type": "code",
   "execution_count": 23,
   "id": "7bce0ada-17f3-4fd3-9963-c85f458faca9",
   "metadata": {},
   "outputs": [
    {
     "name": "stdout",
     "output_type": "stream",
     "text": [
      "Tamaño del conjunto de entrenamiento: (240, 9)\n",
      "Tamaño del conjunto de prueba: (61, 9)\n"
     ]
    }
   ],
   "source": [
    "from sklearn.model_selection import train_test_split\n",
    "\n",
    "train_data, test_data = train_test_split(data1, test_size=0.2, random_state=42)\n",
    "\n",
    "print(\"Tamaño del conjunto de entrenamiento:\", train_data.shape)\n",
    "print(\"Tamaño del conjunto de prueba:\", test_data.shape)\n"
   ]
  },
  {
   "cell_type": "markdown",
   "id": "661020e1-6aa8-4cef-be24-e3c1a86557fc",
   "metadata": {},
   "source": [
    "Definir características (features) y variable objetivo (target)\n",
    "Eliminar la columna 'Selling_Price' para obtener las características\n",
    "Seleccionar la columna 'Selling_Price' como la variable objetivo"
   ]
  },
  {
   "cell_type": "code",
   "execution_count": 36,
   "id": "fbc7d6b2-d7bb-481f-b849-f5eabe2e08c8",
   "metadata": {},
   "outputs": [],
   "source": [
    "train_features = train_data.drop('Selling_Price', axis=1)  \n",
    "train_target = train_data['Selling_Price']"
   ]
  },
  {
   "cell_type": "markdown",
   "id": "46034821-4b84-4ccd-b8f2-f6e506559b26",
   "metadata": {},
   "source": [
    "Calcula el error cuadrático medio (MSE)e\r\n",
    "# Calcula el coeficiente de determinación (\", r2)"
   ]
  },
  {
   "cell_type": "code",
   "execution_count": 37,
   "id": "b02b4f81-8b5e-44a2-a2ef-79354e3ae327",
   "metadata": {},
   "outputs": [],
   "source": [
    "test_target = test_data['Selling_Price']"
   ]
  },
  {
   "cell_type": "code",
   "execution_count": 41,
   "id": "9c55ffe7-3d14-40ab-93af-75ff5b408fe9",
   "metadata": {},
   "outputs": [],
   "source": [
    "test_features = test_data.drop(['Selling_Price', 'Car_Name'], axis=1)"
   ]
  },
  {
   "cell_type": "markdown",
   "id": "9743b55b-1f7b-4c05-a578-4b459913c4a7",
   "metadata": {},
   "source": [
    "codificacion one-hot"
   ]
  },
  {
   "cell_type": "code",
   "execution_count": 48,
   "id": "583ebf4e-98cb-4fb2-9571-07c125163c2d",
   "metadata": {},
   "outputs": [],
   "source": [
    "train_features_encoded = pd.get_dummies(train_features)\n",
    "test_features_encoded = pd.get_dummies(test_features)"
   ]
  },
  {
   "cell_type": "markdown",
   "id": "8f9facea-5b9b-4698-9546-b5e6fe604e88",
   "metadata": {},
   "source": [
    "Entrenar modelo de regresion lineal"
   ]
  },
  {
   "cell_type": "code",
   "execution_count": 49,
   "id": "0d5a88f7-1264-4372-997c-32b04eba5a75",
   "metadata": {},
   "outputs": [
    {
     "data": {
      "text/html": [
       "<style>#sk-container-id-1 {color: black;background-color: white;}#sk-container-id-1 pre{padding: 0;}#sk-container-id-1 div.sk-toggleable {background-color: white;}#sk-container-id-1 label.sk-toggleable__label {cursor: pointer;display: block;width: 100%;margin-bottom: 0;padding: 0.3em;box-sizing: border-box;text-align: center;}#sk-container-id-1 label.sk-toggleable__label-arrow:before {content: \"▸\";float: left;margin-right: 0.25em;color: #696969;}#sk-container-id-1 label.sk-toggleable__label-arrow:hover:before {color: black;}#sk-container-id-1 div.sk-estimator:hover label.sk-toggleable__label-arrow:before {color: black;}#sk-container-id-1 div.sk-toggleable__content {max-height: 0;max-width: 0;overflow: hidden;text-align: left;background-color: #f0f8ff;}#sk-container-id-1 div.sk-toggleable__content pre {margin: 0.2em;color: black;border-radius: 0.25em;background-color: #f0f8ff;}#sk-container-id-1 input.sk-toggleable__control:checked~div.sk-toggleable__content {max-height: 200px;max-width: 100%;overflow: auto;}#sk-container-id-1 input.sk-toggleable__control:checked~label.sk-toggleable__label-arrow:before {content: \"▾\";}#sk-container-id-1 div.sk-estimator input.sk-toggleable__control:checked~label.sk-toggleable__label {background-color: #d4ebff;}#sk-container-id-1 div.sk-label input.sk-toggleable__control:checked~label.sk-toggleable__label {background-color: #d4ebff;}#sk-container-id-1 input.sk-hidden--visually {border: 0;clip: rect(1px 1px 1px 1px);clip: rect(1px, 1px, 1px, 1px);height: 1px;margin: -1px;overflow: hidden;padding: 0;position: absolute;width: 1px;}#sk-container-id-1 div.sk-estimator {font-family: monospace;background-color: #f0f8ff;border: 1px dotted black;border-radius: 0.25em;box-sizing: border-box;margin-bottom: 0.5em;}#sk-container-id-1 div.sk-estimator:hover {background-color: #d4ebff;}#sk-container-id-1 div.sk-parallel-item::after {content: \"\";width: 100%;border-bottom: 1px solid gray;flex-grow: 1;}#sk-container-id-1 div.sk-label:hover label.sk-toggleable__label {background-color: #d4ebff;}#sk-container-id-1 div.sk-serial::before {content: \"\";position: absolute;border-left: 1px solid gray;box-sizing: border-box;top: 0;bottom: 0;left: 50%;z-index: 0;}#sk-container-id-1 div.sk-serial {display: flex;flex-direction: column;align-items: center;background-color: white;padding-right: 0.2em;padding-left: 0.2em;position: relative;}#sk-container-id-1 div.sk-item {position: relative;z-index: 1;}#sk-container-id-1 div.sk-parallel {display: flex;align-items: stretch;justify-content: center;background-color: white;position: relative;}#sk-container-id-1 div.sk-item::before, #sk-container-id-1 div.sk-parallel-item::before {content: \"\";position: absolute;border-left: 1px solid gray;box-sizing: border-box;top: 0;bottom: 0;left: 50%;z-index: -1;}#sk-container-id-1 div.sk-parallel-item {display: flex;flex-direction: column;z-index: 1;position: relative;background-color: white;}#sk-container-id-1 div.sk-parallel-item:first-child::after {align-self: flex-end;width: 50%;}#sk-container-id-1 div.sk-parallel-item:last-child::after {align-self: flex-start;width: 50%;}#sk-container-id-1 div.sk-parallel-item:only-child::after {width: 0;}#sk-container-id-1 div.sk-dashed-wrapped {border: 1px dashed gray;margin: 0 0.4em 0.5em 0.4em;box-sizing: border-box;padding-bottom: 0.4em;background-color: white;}#sk-container-id-1 div.sk-label label {font-family: monospace;font-weight: bold;display: inline-block;line-height: 1.2em;}#sk-container-id-1 div.sk-label-container {text-align: center;}#sk-container-id-1 div.sk-container {/* jupyter's `normalize.less` sets `[hidden] { display: none; }` but bootstrap.min.css set `[hidden] { display: none !important; }` so we also need the `!important` here to be able to override the default hidden behavior on the sphinx rendered scikit-learn.org. See: https://github.com/scikit-learn/scikit-learn/issues/21755 */display: inline-block !important;position: relative;}#sk-container-id-1 div.sk-text-repr-fallback {display: none;}</style><div id=\"sk-container-id-1\" class=\"sk-top-container\"><div class=\"sk-text-repr-fallback\"><pre>LinearRegression()</pre><b>In a Jupyter environment, please rerun this cell to show the HTML representation or trust the notebook. <br />On GitHub, the HTML representation is unable to render, please try loading this page with nbviewer.org.</b></div><div class=\"sk-container\" hidden><div class=\"sk-item\"><div class=\"sk-estimator sk-toggleable\"><input class=\"sk-toggleable__control sk-hidden--visually\" id=\"sk-estimator-id-1\" type=\"checkbox\" checked><label for=\"sk-estimator-id-1\" class=\"sk-toggleable__label sk-toggleable__label-arrow\">LinearRegression</label><div class=\"sk-toggleable__content\"><pre>LinearRegression()</pre></div></div></div></div></div>"
      ],
      "text/plain": [
       "LinearRegression()"
      ]
     },
     "execution_count": 49,
     "metadata": {},
     "output_type": "execute_result"
    }
   ],
   "source": [
    "modelo_regresion_lineal = LinearRegression()\n",
    "modelo_regresion_lineal.fit(train_features_encoded, train_target)"
   ]
  },
  {
   "cell_type": "code",
   "execution_count": 51,
   "id": "0ca4a94c-26d8-420a-9ad7-38d69812ebd1",
   "metadata": {},
   "outputs": [],
   "source": [
    "combined_features = pd.concat([train_features, test_features])"
   ]
  },
  {
   "cell_type": "code",
   "execution_count": 53,
   "id": "a4a16ab3-c20d-472c-a78f-3d8597cabd54",
   "metadata": {},
   "outputs": [],
   "source": [
    "combined_features_encoded = pd.get_dummies(combined_features)"
   ]
  },
  {
   "cell_type": "markdown",
   "id": "c154b74e-a4f2-4828-b6ad-7235685122ac",
   "metadata": {},
   "source": [
    "se divide en test y prueba"
   ]
  },
  {
   "cell_type": "code",
   "execution_count": 55,
   "id": "6264a7f0-f70a-40f4-ae90-c8ab35a989c6",
   "metadata": {},
   "outputs": [],
   "source": [
    "train_features_encoded = combined_features_encoded[:len(train_features)]\n",
    "test_features_encoded = combined_features_encoded[len(train_features):]"
   ]
  },
  {
   "cell_type": "markdown",
   "id": "251a35ae-16e4-4520-8b6a-53e95f02c3c6",
   "metadata": {},
   "source": [
    "Entrenar modelo de regresion lineal"
   ]
  },
  {
   "cell_type": "code",
   "execution_count": 56,
   "id": "631e1622-b70b-4c55-8e5f-9468c1d16e49",
   "metadata": {},
   "outputs": [
    {
     "data": {
      "text/html": [
       "<style>#sk-container-id-2 {color: black;background-color: white;}#sk-container-id-2 pre{padding: 0;}#sk-container-id-2 div.sk-toggleable {background-color: white;}#sk-container-id-2 label.sk-toggleable__label {cursor: pointer;display: block;width: 100%;margin-bottom: 0;padding: 0.3em;box-sizing: border-box;text-align: center;}#sk-container-id-2 label.sk-toggleable__label-arrow:before {content: \"▸\";float: left;margin-right: 0.25em;color: #696969;}#sk-container-id-2 label.sk-toggleable__label-arrow:hover:before {color: black;}#sk-container-id-2 div.sk-estimator:hover label.sk-toggleable__label-arrow:before {color: black;}#sk-container-id-2 div.sk-toggleable__content {max-height: 0;max-width: 0;overflow: hidden;text-align: left;background-color: #f0f8ff;}#sk-container-id-2 div.sk-toggleable__content pre {margin: 0.2em;color: black;border-radius: 0.25em;background-color: #f0f8ff;}#sk-container-id-2 input.sk-toggleable__control:checked~div.sk-toggleable__content {max-height: 200px;max-width: 100%;overflow: auto;}#sk-container-id-2 input.sk-toggleable__control:checked~label.sk-toggleable__label-arrow:before {content: \"▾\";}#sk-container-id-2 div.sk-estimator input.sk-toggleable__control:checked~label.sk-toggleable__label {background-color: #d4ebff;}#sk-container-id-2 div.sk-label input.sk-toggleable__control:checked~label.sk-toggleable__label {background-color: #d4ebff;}#sk-container-id-2 input.sk-hidden--visually {border: 0;clip: rect(1px 1px 1px 1px);clip: rect(1px, 1px, 1px, 1px);height: 1px;margin: -1px;overflow: hidden;padding: 0;position: absolute;width: 1px;}#sk-container-id-2 div.sk-estimator {font-family: monospace;background-color: #f0f8ff;border: 1px dotted black;border-radius: 0.25em;box-sizing: border-box;margin-bottom: 0.5em;}#sk-container-id-2 div.sk-estimator:hover {background-color: #d4ebff;}#sk-container-id-2 div.sk-parallel-item::after {content: \"\";width: 100%;border-bottom: 1px solid gray;flex-grow: 1;}#sk-container-id-2 div.sk-label:hover label.sk-toggleable__label {background-color: #d4ebff;}#sk-container-id-2 div.sk-serial::before {content: \"\";position: absolute;border-left: 1px solid gray;box-sizing: border-box;top: 0;bottom: 0;left: 50%;z-index: 0;}#sk-container-id-2 div.sk-serial {display: flex;flex-direction: column;align-items: center;background-color: white;padding-right: 0.2em;padding-left: 0.2em;position: relative;}#sk-container-id-2 div.sk-item {position: relative;z-index: 1;}#sk-container-id-2 div.sk-parallel {display: flex;align-items: stretch;justify-content: center;background-color: white;position: relative;}#sk-container-id-2 div.sk-item::before, #sk-container-id-2 div.sk-parallel-item::before {content: \"\";position: absolute;border-left: 1px solid gray;box-sizing: border-box;top: 0;bottom: 0;left: 50%;z-index: -1;}#sk-container-id-2 div.sk-parallel-item {display: flex;flex-direction: column;z-index: 1;position: relative;background-color: white;}#sk-container-id-2 div.sk-parallel-item:first-child::after {align-self: flex-end;width: 50%;}#sk-container-id-2 div.sk-parallel-item:last-child::after {align-self: flex-start;width: 50%;}#sk-container-id-2 div.sk-parallel-item:only-child::after {width: 0;}#sk-container-id-2 div.sk-dashed-wrapped {border: 1px dashed gray;margin: 0 0.4em 0.5em 0.4em;box-sizing: border-box;padding-bottom: 0.4em;background-color: white;}#sk-container-id-2 div.sk-label label {font-family: monospace;font-weight: bold;display: inline-block;line-height: 1.2em;}#sk-container-id-2 div.sk-label-container {text-align: center;}#sk-container-id-2 div.sk-container {/* jupyter's `normalize.less` sets `[hidden] { display: none; }` but bootstrap.min.css set `[hidden] { display: none !important; }` so we also need the `!important` here to be able to override the default hidden behavior on the sphinx rendered scikit-learn.org. See: https://github.com/scikit-learn/scikit-learn/issues/21755 */display: inline-block !important;position: relative;}#sk-container-id-2 div.sk-text-repr-fallback {display: none;}</style><div id=\"sk-container-id-2\" class=\"sk-top-container\"><div class=\"sk-text-repr-fallback\"><pre>LinearRegression()</pre><b>In a Jupyter environment, please rerun this cell to show the HTML representation or trust the notebook. <br />On GitHub, the HTML representation is unable to render, please try loading this page with nbviewer.org.</b></div><div class=\"sk-container\" hidden><div class=\"sk-item\"><div class=\"sk-estimator sk-toggleable\"><input class=\"sk-toggleable__control sk-hidden--visually\" id=\"sk-estimator-id-2\" type=\"checkbox\" checked><label for=\"sk-estimator-id-2\" class=\"sk-toggleable__label sk-toggleable__label-arrow\">LinearRegression</label><div class=\"sk-toggleable__content\"><pre>LinearRegression()</pre></div></div></div></div></div>"
      ],
      "text/plain": [
       "LinearRegression()"
      ]
     },
     "execution_count": 56,
     "metadata": {},
     "output_type": "execute_result"
    }
   ],
   "source": [
    "modelo_regresion_lineal = LinearRegression()\n",
    "modelo_regresion_lineal.fit(train_features_encoded, train_target)"
   ]
  },
  {
   "cell_type": "code",
   "execution_count": 57,
   "id": "2c06cb9e-b801-4e8c-b5d2-dd1394e0ea0a",
   "metadata": {},
   "outputs": [],
   "source": [
    "predicciones = modelo_regresion_lineal.predict(test_features_encoded)"
   ]
  },
  {
   "cell_type": "markdown",
   "id": "be9f65b6-1de0-466f-85e3-6fbf17fc070c",
   "metadata": {},
   "source": [
    "Grafica la línea de regresión"
   ]
  },
  {
   "cell_type": "code",
   "execution_count": 58,
   "id": "7a80d81b-d32b-46be-94af-5a5eddec7423",
   "metadata": {},
   "outputs": [
    {
     "data": {
      "image/png": "[encoded data removed]",
      "text/plain": [
       "<Figure size 640x480 with 1 Axes>"
      ]
     },
     "metadata": {},
     "output_type": "display_data"
    }
   ],
   "source": [
    "plt.scatter(test_target, predicciones)\n",
    "plt.plot(test_target, test_target, color='red')  # Línea de regresión ideal (y = x)\n",
    "plt.xlabel('Precio observado')\n",
    "plt.ylabel('Precio predicho')\n",
    "plt.title('Comparación entre precios observados y predichos')\n",
    "plt.show()"
   ]
  },
  {
   "cell_type": "markdown",
   "id": "95a12600-1506-49a5-878c-272d605ef884",
   "metadata": {},
   "source": [
    "Ver coeficiente del modelo"
   ]
  },
  {
   "cell_type": "code",
   "execution_count": 59,
   "id": "297cd8ba-31af-49f1-9cb3-3a07d2446862",
   "metadata": {},
   "outputs": [
    {
     "name": "stdout",
     "output_type": "stream",
     "text": [
      "Coeficientes:\n",
      "Year : 0.3538013650978438\n",
      "Present_Price : 0.4291525025123185\n",
      "Kms_Driven : -6.157258662042864e-06\n",
      "Owner : -0.9037598241780382\n",
      "Fuel_Type_CNG : -1.090578936597123\n",
      "Fuel_Type_Diesel : 1.4426936468461107\n",
      "Fuel_Type_Petrol : -0.35211471024898744\n",
      "Seller_Type_Dealer : 0.595296453077978\n",
      "Seller_Type_Individual : -0.5952964530779786\n",
      "Transmission_Automatic : 0.8195107769405763\n",
      "Transmission_Manual : -0.819510776940577\n",
      "Intercepto: -710.2771513345708\n"
     ]
    }
   ],
   "source": [
    "coeficientes = modelo_regresion_lineal.coef_\n",
    "intercepto = modelo_regresion_lineal.intercept_\n",
    "print(\"Coeficientes:\")\n",
    "for nombre, coef in zip(train_features_encoded.columns, coeficientes):\n",
    "    print(nombre, ':', coef)\n",
    "print(\"Intercepto:\", intercepto)"
   ]
  }
 ],
 "metadata": {
  "kernelspec": {
   "display_name": "Python 3 (ipykernel)",
   "language": "python",
   "name": "python3"
  },
  "language_info": {
   "codemirror_mode": {
    "name": "ipython",
    "version": 3
   },
   "file_extension": ".py",
   "mimetype": "text/x-python",
   "name": "python",
   "nbconvert_exporter": "python",
   "pygments_lexer": "ipython3",
   "version": "3.11.7"
  }
 },
 "nbformat": 4,
 "nbformat_minor": 5
}
